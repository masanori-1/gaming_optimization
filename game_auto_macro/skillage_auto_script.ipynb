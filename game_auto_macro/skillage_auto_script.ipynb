{
 "cells": [
  {
   "cell_type": "code",
   "execution_count": 10,
   "metadata": {},
   "outputs": [],
   "source": [
    "import keyboard #anacondaにはない\n",
    "import time\n",
    "import pyautogui #anacondaにはない\n",
    "\n",
    "def confirm_mouce_position(time_var : int) -> None:\n",
    "    time.sleep(time_var)\n",
    "    print(pyautogui.position())\n",
    "\n",
    "if __name__=='__main__':\n",
    "    \n",
    "    # time.sleep(5)\n",
    "    # keyboard.write('pythonで自動化で文字入力')\n",
    "\n",
    "    pyautogui.moveTo(753,777) #スタート画面の選択をクリック\n",
    "    pyautogui.click()\n",
    "    time.sleep(40\n",
    "    ) #起動ロード待ち時間\n"
   ]
  }
 ],
 "metadata": {
  "kernelspec": {
   "display_name": "base",
   "language": "python",
   "name": "python3"
  },
  "language_info": {
   "codemirror_mode": {
    "name": "ipython",
    "version": 3
   },
   "file_extension": ".py",
   "mimetype": "text/x-python",
   "name": "python",
   "nbconvert_exporter": "python",
   "pygments_lexer": "ipython3",
   "version": "3.11.5"
  }
 },
 "nbformat": 4,
 "nbformat_minor": 2
}
